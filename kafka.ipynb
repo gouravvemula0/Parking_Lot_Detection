{
 "cells": [
  {
   "cell_type": "code",
   "execution_count": 7,
   "metadata": {},
   "outputs": [],
   "source": [
    "def read_ccloud_config(config_file):\n",
    "    omitted_fields = set(['schema.registry.url', 'basic.auth.credentials.source', 'basic.auth.user.info'])\n",
    "    conf = {}\n",
    "    with open(config_file) as fh:\n",
    "        for line in fh:\n",
    "            line = line.strip()\n",
    "            if len(line) != 0 and line[0] != \"#\":\n",
    "                parameter, value = line.strip().split('=', 1)\n",
    "                if parameter not in omitted_fields:\n",
    "                    conf[parameter] = value.strip()\n",
    "    return conf"
   ]
  },
  {
   "cell_type": "code",
   "execution_count": 44,
   "metadata": {},
   "outputs": [
    {
     "name": "stderr",
     "output_type": "stream",
     "text": [
      "%4|1701666864.003|CONFWARN|rdkafka#producer-38| [thrd:app]: Configuration property session.timeout.ms is a consumer property and will be ignored by this producer instance\n"
     ]
    },
    {
     "data": {
      "text/plain": [
       "0"
      ]
     },
     "execution_count": 44,
     "metadata": {},
     "output_type": "execute_result"
    }
   ],
   "source": [
    "from confluent_kafka import Producer\n",
    "import json\n",
    "import time\n",
    "producer = Producer(read_ccloud_config(\"client.properties\"))\n",
    "\n",
    "import cv2\n",
    "import base64\n",
    "orig_image = cv2.imread('/Users/gouravvemula/Downloads/PKLot.v4-416by416_roboflow-accurate-model.yolov8/test/images/2013-04-16_10_05_04_jpg.rf.c934b365e432cd06cc878816a61243dc.jpg')\n",
    "retval, buffer = cv2.imencode('.jpg', orig_image)\n",
    "# payload = cv2.imencode('.jpg', orig_image)[1].tobytes()\n",
    "encoded_image = base64.b64encode(buffer).decode('utf-8')\n",
    "for i in range(2):\n",
    "    data = {\"camera_id\":\"2\",\"frame_base64\":encoded_image,\"timestamp\":int(time.time())}\n",
    "    y = json.dumps(data)\n",
    "    producer.produce(\"video_frames\", value=y)\n",
    "    time.sleep(5)\n",
    "producer.flush()"
   ]
  }
 ],
 "metadata": {
  "kernelspec": {
   "display_name": "Python 3",
   "language": "python",
   "name": "python3"
  },
  "language_info": {
   "codemirror_mode": {
    "name": "ipython",
    "version": 3
   },
   "file_extension": ".py",
   "mimetype": "text/x-python",
   "name": "python",
   "nbconvert_exporter": "python",
   "pygments_lexer": "ipython3",
   "version": "3.11.2"
  }
 },
 "nbformat": 4,
 "nbformat_minor": 2
}
